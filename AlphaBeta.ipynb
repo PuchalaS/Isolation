{
 "cells": [
  {
   "cell_type": "code",
   "execution_count": 7,
   "metadata": {},
   "outputs": [],
   "source": [
    "import numpy as np\n",
    "from typing import Callable\n",
    "\n",
    "\n",
    "class AlphaBeta(object):\n",
    "    def __init__(self,\n",
    "                 board: np.ndarray,\n",
    "                 depth: int,\n",
    "                 player: int,\n",
    "                 enemy: int,\n",
    "                 eval_function_factory):\n",
    "        self.board = board.copy()\n",
    "        margin = np.zeros((9,9))\n",
    "        margin[1:-1, 1:-1] = self.board \n",
    "        self.board = margin\n",
    "        self.depth = depth\n",
    "        self.__alpha = (-1) * np.inf\n",
    "        self.__beta = np.inf\n",
    "        self.player = player\n",
    "        self.enemy = enemy\n",
    "        self.__inital_player_position = find_player_position(\n",
    "            self.board, player)\n",
    "        self.__inital_enemy_position = find_player_position(self.board, enemy)\n",
    "        self.__player_state_eval_fn = eval_function_factory(self.player, self.enemy)\n",
    "        self.__enemy_state_eval_fn = eval_function_factory(self.enemy, self.player)\n",
    "\n",
    "    def update_state(self, state: np.ndarray) -> None:\n",
    "        self.board = state.copy()\n",
    "        margin = np.zeros((9,9))\n",
    "        margin[1:-1, 1:-1] = self.board\n",
    "\n",
    "    def predict_state(self):\n",
    "        def AlphaBetaMax(state, alpha, beta, depth_left):\n",
    "            if depth_left == 0:\n",
    "                return (state, self.__player_state_eval_fn(state))\n",
    "            best_state = None\n",
    "            best_value = -np.inf\n",
    "            for possible_state in possible_states(state, self.player, self.enemy):\n",
    "                _, score = AlphaBetaMin(\n",
    "                    possible_state,\n",
    "                    alpha,\n",
    "                    beta,\n",
    "                    depth_left - 1)\n",
    "\n",
    "                if score > best_value:\n",
    "                    best_value = score\n",
    "                    best_state = possible_state\n",
    "                alpha = max(alpha, best_value)\n",
    "                if beta <= alpha:\n",
    "                    break\n",
    "            return (best_state, best_value)\n",
    "\n",
    "        def AlphaBetaMin(state, alpha, beta, depth_left):\n",
    "            if depth_left == 0:\n",
    "                return (state, (-1) * self.__enemy_state_eval_fn(state))\n",
    "            best_state = None\n",
    "            best_value = np.inf\n",
    "            for possible_state in possible_states(state, self.enemy, self.player):\n",
    "                _, score = AlphaBetaMax(\n",
    "                    possible_state,\n",
    "                    alpha,\n",
    "                    beta,\n",
    "                    depth_left - 1)\n",
    "                if score < best_value:\n",
    "                    best_value = score\n",
    "                    best_state = possible_state\n",
    "                beta = min(beta, best_value)\n",
    "                if beta <= alpha:\n",
    "                    break\n",
    "            return (best_state, best_value)\n",
    "\n",
    "        current_state = self.board.copy()\n",
    "        predicted_state, score = AlphaBetaMax(current_state, self.__alpha, self.__beta, self.depth)\n",
    "        player_pos = np.array(np.where(current_state == self.player)).T[0] - np.array([1,1])\n",
    "        removal = np.array(np.where((current_state == 0) != (predicted_state == 0))).T[0] - np.array([1,1])\n",
    "        return ((player_pos[0], player_pos[1]), (removal[0], removal[1]))\n",
    "        # TODO: Konwersja stanu na poszczególny ruch (nowa pozycja gracza, wsp. usuniętego kwadratu) - odjąć (1,1)\n",
    "\n",
    "\n",
    "\n",
    "def MeasureOneToTwoFactory(first_player: int, second_player: int):\n",
    "    def MeasureOneToTwo(state: np.ndarray) -> float:\n",
    "        first_player_moves = count_possible_states(state, first_player)\n",
    "        second_player_moves = count_possible_states(state, second_player)\n",
    "        return first_player_moves - (2 * second_player_moves)\n",
    "    return MeasureOneToTwo\n",
    "\n",
    "\n",
    "def count_possible_states(state: np.ndarray, player: int) -> int:\n",
    "    first_move = player_neighbourhood(state, player).sum() - player\n",
    "    second_move = (state == 1).sum() - 1\n",
    "    return first_move * second_move\n",
    "\n",
    "\n",
    "def possible_states(state: np.ndarray, current_player: int, enemy_player: int):\n",
    "    possible_moves = find_possible_player_moves(state, current_player)\n",
    "    for move_vector in possible_moves:\n",
    "        partial_state = move_player(state, current_player, move_vector)\n",
    "        possible_removals = find_possible_removals(partial_state, enemy_player)\n",
    "        for remove_pos in possible_removals:\n",
    "            yield remove_square(partial_state, remove_pos)\n",
    "\n",
    "\n",
    "def find_possible_player_moves(state: np.ndarray, current_player: int) -> list:\n",
    "    pos_x, pos_y = find_player_position(state, current_player)\n",
    "    player_neighbourhood = state[pos_x - 1: pos_x + 2, pos_y - 1: pos_y + 2]\n",
    "    x_positions = (np.where(player_neighbourhood == 1)[0] + pos_x - 1)\n",
    "    y_positions = (np.where(player_neighbourhood == 1)[1] + pos_y - 1)\n",
    "    return np.array((x_positions, y_positions)).T.tolist()\n",
    "\n",
    "\n",
    "def find_player_position(state: np.ndarray, player: int) -> tuple:\n",
    "    pos_x, pos_y = np.where(state == player)\n",
    "    return pos_x[0], pos_y[0]\n",
    "\n",
    "\n",
    "def player_neighbourhood(state: np.ndarray, player: int) -> np.ndarray:\n",
    "    pos_x, pos_y = np.where(state == player)\n",
    "    pos_x = pos_x[0]\n",
    "    pos_y = pos_y[0]\n",
    "    return state[pos_x - 1: pos_x + 2, pos_y - 1: pos_y + 2]\n",
    "\n",
    "\n",
    "def find_possible_removals(state: np.ndarray, player: int) -> list:\n",
    "    player_pos = np.array(np.where(state == player)).T[0]\n",
    "    res = np.array(np.where(state == 1)).T\n",
    "    diff = res - player_pos\n",
    "    distance = np.sqrt(np.sum(diff*diff, axis=1))\n",
    "    asc_order_indexes = np.argsort(distance)\n",
    "    return res[asc_order_indexes]\n",
    "\n",
    "\n",
    "def move_player(state: np.ndarray, current_player: int, move_vector: tuple) -> np.ndarray:\n",
    "    result = state.copy()\n",
    "    pos_x, pos_y = find_player_position(state, current_player)\n",
    "    result[move_vector[0], move_vector[1]] = current_player\n",
    "    result[pos_x, pos_y] = 1\n",
    "    return result\n",
    "\n",
    "\n",
    "def remove_square(state: np.ndarray, square_pos: tuple) -> np.ndarray:\n",
    "    result = state.copy()\n",
    "    result[square_pos[0], square_pos[1]] = 0\n",
    "    return result\n",
    "\n",
    "\n",
    "def print_state(state: np.ndarray):\n",
    "    print(state[1:-1, 1:-1])\n",
    "    "
   ]
  },
  {
   "cell_type": "code",
   "execution_count": 8,
   "metadata": {},
   "outputs": [
    {
     "output_type": "execute_result",
     "data": {
      "text/plain": "array([[0., 0., 0., 0., 0., 0., 0., 0., 0.],\n       [0., 1., 1., 1., 2., 1., 1., 1., 0.],\n       [0., 1., 1., 1., 1., 1., 1., 1., 0.],\n       [0., 1., 1., 1., 1., 1., 1., 1., 0.],\n       [0., 1., 1., 1., 1., 1., 1., 1., 0.],\n       [0., 1., 1., 1., 1., 1., 1., 1., 0.],\n       [0., 1., 1., 1., 1., 1., 1., 1., 0.],\n       [0., 1., 1., 1., 3., 1., 1., 1., 0.],\n       [0., 0., 0., 0., 0., 0., 0., 0., 0.]])"
     },
     "metadata": {},
     "execution_count": 8
    }
   ],
   "source": [
    "margin = np.zeros((9,9))\n",
    "margin[1:-1, 1:-1] = state \n",
    "margin\n"
   ]
  },
  {
   "cell_type": "code",
   "execution_count": 9,
   "metadata": {},
   "outputs": [
    {
     "output_type": "execute_result",
     "data": {
      "text/plain": "((0, 3), (5, 3))"
     },
     "metadata": {},
     "execution_count": 9
    }
   ],
   "source": [
    "def print_state(state: np.ndarray):\n",
    "    print(state[1:-1, 1:-1])\n",
    "\n",
    "state = np.ones((7,7))\n",
    "player_position = (0,3)\n",
    "enemy_position = (6,3)\n",
    "state[player_position] = 2\n",
    "state[enemy_position] = 3\n",
    "alpha_beta = AlphaBeta(state, 3, 2, 3, MeasureOneToTwoFactory)\n",
    "alpha_beta.predict_state()"
   ]
  },
  {
   "cell_type": "code",
   "execution_count": 7,
   "metadata": {},
   "outputs": [
    {
     "output_type": "execute_result",
     "data": {
      "text/plain": "array([[ True,  True,  True,  True,  True,  True,  True,  True,  True],\n       [ True, False, False, False, False, False, False, False,  True],\n       [ True, False, False, False, False, False, False, False,  True],\n       [ True, False, False, False, False, False, False, False,  True],\n       [ True, False, False, False, False, False, False, False,  True],\n       [ True, False, False, False, False, False, False, False,  True],\n       [ True, False, False, False,  True, False, False, False,  True],\n       [ True, False, False, False, False, False, False, False,  True],\n       [ True,  True,  True,  True,  True,  True,  True,  True,  True]])"
     },
     "metadata": {},
     "execution_count": 7
    }
   ],
   "source": [
    "s2 == 0"
   ]
  },
  {
   "cell_type": "code",
   "execution_count": 13,
   "metadata": {},
   "outputs": [
    {
     "output_type": "execute_result",
     "data": {
      "text/plain": "array([6, 4])"
     },
     "metadata": {},
     "execution_count": 13
    }
   ],
   "source": [
    "np.array(np.where((s1 == 0) != (s2 == 0))).T[0]"
   ]
  },
  {
   "cell_type": "code",
   "execution_count": 12,
   "metadata": {},
   "outputs": [
    {
     "output_type": "execute_result",
     "data": {
      "text/plain": "-230.0"
     },
     "metadata": {},
     "execution_count": 12
    }
   ],
   "source": [
    "MeasureOneToTwoFactory(2,3)(state)"
   ]
  },
  {
   "cell_type": "code",
   "execution_count": 6,
   "metadata": {},
   "outputs": [
    {
     "output_type": "execute_result",
     "data": {
      "text/plain": "<generator object possible_states at 0x7f7470e028d0>"
     },
     "metadata": {},
     "execution_count": 6
    }
   ],
   "source": [
    "possible_states(state, 3)"
   ]
  },
  {
   "cell_type": "code",
   "execution_count": 167,
   "metadata": {},
   "outputs": [],
   "source": [
    "def possible_states(state: np.ndarray, current_player: int):\n",
    "    possible_moves = find_possible_player_moves(state, current_player)\n",
    "    for move_vector in possible_moves:\n",
    "        partial_state = move_player(state, current_player, move_vector)\n",
    "        possible_removals = find_possible_removals(partial_state)\n",
    "        for remove_pos in possible_removals:\n",
    "            yield remove_square(partial_state, remove_pos)\n",
    "\n",
    "def find_possible_player_moves(state: np.ndarray, current_player: int) -> list:\n",
    "        pos_x, pos_y = np.where(state == current_player)\n",
    "        pos_x = pos_x[0]\n",
    "        pos_y = pos_y[0]\n",
    "        player_neighbourhood = state[pos_x - 1: pos_x + 2, pos_y - 1: pos_y + 2]\n",
    "        x_positions = (np.where(player_neighbourhood == 1)[0] + pos_x - 1)\n",
    "        y_positions = (np.where(player_neighbourhood == 1)[1] + pos_y - 1)\n",
    "        return np.array((x_positions, y_positions)).T.tolist()\n",
    "\n",
    "def find_possible_removals(state: np.ndarray) -> list:\n",
    "    return np.array(np.where(state == 1)).T.tolist()\n",
    "    \n",
    "def move_player(state: np.ndarray, current_player: int, move_vector: tuple) -> np.ndarray:\n",
    "    result = state.copy()\n",
    "    result[move_vector[0], move_vector[1]] = current_player\n",
    "    result[move_vector[0], move_vector[1]] = 1\n",
    "    return result\n",
    "\n",
    "def remove_square(state: np.ndarray, square_pos: tuple) -> np.ndarray:\n",
    "    result = state.copy()\n",
    "    result[square_pos[0], square_pos[1]] = 0\n",
    "    return result\n",
    "\n",
    "def simple_state_eval(state: np.ndarray, current_player: int) -> float:\n",
    "    pass"
   ]
  },
  {
   "cell_type": "code",
   "execution_count": 135,
   "metadata": {},
   "outputs": [
    {
     "output_type": "execute_result",
     "data": {
      "text/plain": "array([3, 4, 5, 3, 4, 5])"
     },
     "metadata": {},
     "execution_count": 135
    }
   ],
   "source": [
    "np.where(player_neighbourhood)[1] + pos_y - 1"
   ]
  },
  {
   "cell_type": "code",
   "execution_count": 96,
   "metadata": {},
   "outputs": [
    {
     "output_type": "execute_result",
     "data": {
      "text/plain": "[[1, 3], [1, 5], [2, 3], [2, 4], [2, 5]]"
     },
     "metadata": {},
     "execution_count": 96
    }
   ],
   "source": [
    "x_positions = (np.where(player_neighbourhood == 1)[0] + pos_x - 1)\n",
    "y_positions = (np.where(player_neighbourhood == 1)[1] + pos_y - 1)\n",
    "possible_moves = np.array((x_positions, y_positions)).T\n",
    "np.array((x_positions, y_positions)).T.tolist()"
   ]
  },
  {
   "cell_type": "code",
   "execution_count": 102,
   "metadata": {},
   "outputs": [],
   "source": [
    "possible_removals = np.array(np.where(state == 1)).T.tolist()"
   ]
  },
  {
   "cell_type": "code",
   "execution_count": 108,
   "metadata": {},
   "outputs": [],
   "source": [
    "for move_x, move_y in possible_moves:\n",
    "    partial_state = state.copy()\n",
    "    partial_state[move_x, move_y] = 2\n",
    "    partial_state[pos_x, pos_y] = 1\n",
    "    possible_removals = np.array(np.where(partial_state == 1)).T.tolist()\n",
    "    try:\n",
    "        possible_removals.remove([move_x, move_y])\n",
    "    except ValueError:\n",
    "        pass\n",
    "    for remove_x, remove_y in possible_removals:\n",
    "        possible_state = partial_state.copy()\n",
    "        possible_state[remove_x, remove_y] == 0"
   ]
  },
  {
   "cell_type": "code",
   "execution_count": 81,
   "metadata": {},
   "outputs": [
    {
     "output_type": "execute_result",
     "data": {
      "text/plain": "array([1., 1., 1., 1., 1.])"
     },
     "metadata": {},
     "execution_count": 81
    }
   ],
   "source": [
    "state[[1, 1, 2, 2, 2], [3, 5, 3, 4, 5]]"
   ]
  },
  {
   "cell_type": "code",
   "execution_count": 80,
   "metadata": {},
   "outputs": [
    {
     "output_type": "execute_result",
     "data": {
      "text/plain": "array([[0., 0., 0., 0., 0., 0., 0., 0., 0.],\n       [0., 1., 1., 1., 2., 1., 1., 1., 0.],\n       [0., 1., 1., 1., 1., 1., 1., 1., 0.],\n       [0., 1., 1., 1., 1., 1., 1., 1., 0.],\n       [0., 1., 1., 1., 1., 1., 1., 1., 0.],\n       [0., 1., 1., 1., 1., 1., 1., 1., 0.],\n       [0., 1., 1., 1., 1., 1., 1., 1., 0.],\n       [0., 1., 1., 1., 3., 1., 1., 1., 0.],\n       [0., 0., 0., 0., 0., 0., 0., 0., 0.]])"
     },
     "metadata": {},
     "execution_count": 80
    }
   ],
   "source": [
    "state"
   ]
  },
  {
   "cell_type": "code",
   "execution_count": null,
   "metadata": {},
   "outputs": [],
   "source": []
  }
 ],
 "metadata": {
  "language_info": {
   "name": "python",
   "codemirror_mode": {
    "name": "ipython",
    "version": 3
   },
   "version": "3.7.6-final"
  },
  "orig_nbformat": 2,
  "file_extension": ".py",
  "mimetype": "text/x-python",
  "name": "python",
  "npconvert_exporter": "python",
  "pygments_lexer": "ipython3",
  "version": 3,
  "kernelspec": {
   "name": "python3",
   "display_name": "Python 3"
  }
 },
 "nbformat": 4,
 "nbformat_minor": 2
}